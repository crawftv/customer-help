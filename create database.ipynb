{
 "cells": [
  {
   "cell_type": "code",
   "execution_count": 3,
   "metadata": {},
   "outputs": [],
   "source": [
    "import pandas as pd"
   ]
  },
  {
   "cell_type": "code",
   "execution_count": 4,
   "metadata": {},
   "outputs": [],
   "source": [
    "df = pd.read_csv(\"data/twitter/twcs/twcs.csv\")"
   ]
  },
  {
   "cell_type": "code",
   "execution_count": 5,
   "metadata": {},
   "outputs": [],
   "source": [
    "dfi = df[df[\"inbound\"]==True][[\"text\"]]"
   ]
  },
  {
   "cell_type": "code",
   "execution_count": 8,
   "metadata": {},
   "outputs": [
    {
     "data": {
      "text/html": [
       "<div>\n",
       "<style scoped>\n",
       "    .dataframe tbody tr th:only-of-type {\n",
       "        vertical-align: middle;\n",
       "    }\n",
       "\n",
       "    .dataframe tbody tr th {\n",
       "        vertical-align: top;\n",
       "    }\n",
       "\n",
       "    .dataframe thead th {\n",
       "        text-align: right;\n",
       "    }\n",
       "</style>\n",
       "<table border=\"1\" class=\"dataframe\">\n",
       "  <thead>\n",
       "    <tr style=\"text-align: right;\">\n",
       "      <th></th>\n",
       "      <th>tweet_id</th>\n",
       "      <th>author_id</th>\n",
       "      <th>inbound</th>\n",
       "      <th>created_at</th>\n",
       "      <th>text</th>\n",
       "      <th>response_tweet_id</th>\n",
       "      <th>in_response_to_tweet_id</th>\n",
       "    </tr>\n",
       "  </thead>\n",
       "  <tbody>\n",
       "    <tr>\n",
       "      <th>1</th>\n",
       "      <td>2</td>\n",
       "      <td>115712</td>\n",
       "      <td>True</td>\n",
       "      <td>Tue Oct 31 22:11:45 +0000 2017</td>\n",
       "      <td>@sprintcare and how do you propose we do that</td>\n",
       "      <td>NaN</td>\n",
       "      <td>1.0</td>\n",
       "    </tr>\n",
       "    <tr>\n",
       "      <th>2</th>\n",
       "      <td>3</td>\n",
       "      <td>115712</td>\n",
       "      <td>True</td>\n",
       "      <td>Tue Oct 31 22:08:27 +0000 2017</td>\n",
       "      <td>@sprintcare I have sent several private messag...</td>\n",
       "      <td>1</td>\n",
       "      <td>4.0</td>\n",
       "    </tr>\n",
       "    <tr>\n",
       "      <th>4</th>\n",
       "      <td>5</td>\n",
       "      <td>115712</td>\n",
       "      <td>True</td>\n",
       "      <td>Tue Oct 31 21:49:35 +0000 2017</td>\n",
       "      <td>@sprintcare I did.</td>\n",
       "      <td>4</td>\n",
       "      <td>6.0</td>\n",
       "    </tr>\n",
       "    <tr>\n",
       "      <th>6</th>\n",
       "      <td>8</td>\n",
       "      <td>115712</td>\n",
       "      <td>True</td>\n",
       "      <td>Tue Oct 31 21:45:10 +0000 2017</td>\n",
       "      <td>@sprintcare is the worst customer service</td>\n",
       "      <td>9,6,10</td>\n",
       "      <td>NaN</td>\n",
       "    </tr>\n",
       "    <tr>\n",
       "      <th>8</th>\n",
       "      <td>12</td>\n",
       "      <td>115713</td>\n",
       "      <td>True</td>\n",
       "      <td>Tue Oct 31 22:04:47 +0000 2017</td>\n",
       "      <td>@sprintcare You gonna magically change your co...</td>\n",
       "      <td>11,13,14</td>\n",
       "      <td>15.0</td>\n",
       "    </tr>\n",
       "  </tbody>\n",
       "</table>\n",
       "</div>"
      ],
      "text/plain": [
       "   tweet_id author_id  inbound                      created_at  \\\n",
       "1         2    115712     True  Tue Oct 31 22:11:45 +0000 2017   \n",
       "2         3    115712     True  Tue Oct 31 22:08:27 +0000 2017   \n",
       "4         5    115712     True  Tue Oct 31 21:49:35 +0000 2017   \n",
       "6         8    115712     True  Tue Oct 31 21:45:10 +0000 2017   \n",
       "8        12    115713     True  Tue Oct 31 22:04:47 +0000 2017   \n",
       "\n",
       "                                                text response_tweet_id  \\\n",
       "1      @sprintcare and how do you propose we do that               NaN   \n",
       "2  @sprintcare I have sent several private messag...                 1   \n",
       "4                                 @sprintcare I did.                 4   \n",
       "6          @sprintcare is the worst customer service            9,6,10   \n",
       "8  @sprintcare You gonna magically change your co...          11,13,14   \n",
       "\n",
       "   in_response_to_tweet_id  \n",
       "1                      1.0  \n",
       "2                      4.0  \n",
       "4                      6.0  \n",
       "6                      NaN  \n",
       "8                     15.0  "
      ]
     },
     "execution_count": 8,
     "metadata": {},
     "output_type": "execute_result"
    }
   ],
   "source": [
    "dfi.head()"
   ]
  },
  {
   "cell_type": "code",
   "execution_count": 9,
   "metadata": {},
   "outputs": [],
   "source": [
    "import sqlite3\n",
    "with sqlite3.connect(\"hand-labeled-data.db\") as conn:\n",
    "    conn.execute(\"CREATE VIRTUAL TABLE data USING FTS5 (text, rating)\")"
   ]
  },
  {
   "cell_type": "code",
   "execution_count": 17,
   "metadata": {},
   "outputs": [],
   "source": [
    "lb = pd.DataFrame(dfi[\"text\"])\n",
    "import numpy as np\n",
    "lb[\"label\"] = np.nan"
   ]
  },
  {
   "cell_type": "code",
   "execution_count": 19,
   "metadata": {},
   "outputs": [
    {
     "data": {
      "text/html": [
       "<div>\n",
       "<style scoped>\n",
       "    .dataframe tbody tr th:only-of-type {\n",
       "        vertical-align: middle;\n",
       "    }\n",
       "\n",
       "    .dataframe tbody tr th {\n",
       "        vertical-align: top;\n",
       "    }\n",
       "\n",
       "    .dataframe thead th {\n",
       "        text-align: right;\n",
       "    }\n",
       "</style>\n",
       "<table border=\"1\" class=\"dataframe\">\n",
       "  <thead>\n",
       "    <tr style=\"text-align: right;\">\n",
       "      <th></th>\n",
       "      <th>text</th>\n",
       "      <th>label</th>\n",
       "    </tr>\n",
       "  </thead>\n",
       "  <tbody>\n",
       "    <tr>\n",
       "      <th>1</th>\n",
       "      <td>@sprintcare and how do you propose we do that</td>\n",
       "      <td>NaN</td>\n",
       "    </tr>\n",
       "    <tr>\n",
       "      <th>2</th>\n",
       "      <td>@sprintcare I have sent several private messag...</td>\n",
       "      <td>NaN</td>\n",
       "    </tr>\n",
       "    <tr>\n",
       "      <th>4</th>\n",
       "      <td>@sprintcare I did.</td>\n",
       "      <td>NaN</td>\n",
       "    </tr>\n",
       "    <tr>\n",
       "      <th>6</th>\n",
       "      <td>@sprintcare is the worst customer service</td>\n",
       "      <td>NaN</td>\n",
       "    </tr>\n",
       "    <tr>\n",
       "      <th>8</th>\n",
       "      <td>@sprintcare You gonna magically change your co...</td>\n",
       "      <td>NaN</td>\n",
       "    </tr>\n",
       "  </tbody>\n",
       "</table>\n",
       "</div>"
      ],
      "text/plain": [
       "                                                text  label\n",
       "1      @sprintcare and how do you propose we do that    NaN\n",
       "2  @sprintcare I have sent several private messag...    NaN\n",
       "4                                 @sprintcare I did.    NaN\n",
       "6          @sprintcare is the worst customer service    NaN\n",
       "8  @sprintcare You gonna magically change your co...    NaN"
      ]
     },
     "execution_count": 19,
     "metadata": {},
     "output_type": "execute_result"
    }
   ],
   "source": []
  },
  {
   "cell_type": "code",
   "execution_count": 27,
   "metadata": {},
   "outputs": [],
   "source": [
    "def upload_chunks(chunk):\n",
    "    with sqlite3.connect(\"hand-labeled-data.db\") as conn:\n",
    "        conn.executemany(\"INSERT INTO data VALUES (?,?)\", chunk)"
   ]
  },
  {
   "cell_type": "code",
   "execution_count": 31,
   "metadata": {},
   "outputs": [
    {
     "data": {
      "text/plain": [
       "array(['@sprintcare and how do you propose we do that', nan], dtype=object)"
      ]
     },
     "execution_count": 31,
     "metadata": {},
     "output_type": "execute_result"
    }
   ],
   "source": [
    "lb[i*50_000:i+1*50_000].values[0]"
   ]
  },
  {
   "cell_type": "code",
   "execution_count": 32,
   "metadata": {},
   "outputs": [],
   "source": [
    "for i in range(30):\n",
    "    upload_chunks(lb[i*50_000:i+1*50_000].values)"
   ]
  },
  {
   "cell_type": "code",
   "execution_count": 33,
   "metadata": {},
   "outputs": [
    {
     "data": {
      "text/plain": [
       "29"
      ]
     },
     "execution_count": 33,
     "metadata": {},
     "output_type": "execute_result"
    }
   ],
   "source": []
  },
  {
   "cell_type": "code",
   "execution_count": 45,
   "metadata": {},
   "outputs": [],
   "source": [
    "with sqlite3.connect(\"hand-labeled-data.db\") as conn:\n",
    "    c = conn.execute(\"SELECT text,rowid,rating FROM data WHERE data MATCH 'terrible' LIMIT 50\").fetchall()\n",
    "    c = list(c)"
   ]
  },
  {
   "cell_type": "code",
   "execution_count": 46,
   "metadata": {},
   "outputs": [
    {
     "data": {
      "text/plain": [
       "[('@AdobeCare you guys have been saying that for weeks now. your product went from being great to now unable to work and terrible. very disappointed.',\n",
       "  99,\n",
       "  None),\n",
       " ('@VerizonSupport ever since I upgraded to Ulimited Data, my LTE speeds are TERRIBLE 😡 Is there a fix?!',\n",
       "  463,\n",
       "  None),\n",
       " ('@115993 are you kidding me with this customer service! It’s terrible.',\n",
       "  469,\n",
       "  None),\n",
       " ('@ArgosHelpers Terrible delivery service even worse paying extra for a time slot #3hourslate',\n",
       "  562,\n",
       "  None),\n",
       " ('Just so @Morrisons know, orange donuts were a TERRIBLE idea.', 566, None),\n",
       " ('@116090 Saying I preordered to early, terrible customer service. Won’t renew prime if this isn’t fixed.',\n",
       "  618,\n",
       "  None),\n",
       " ('Adobe Lightroom is terrible since updating to CC Classic ! Sony A9 file takes 15sec to load full preview .... #lightroomcc 🤬 https://t.co/gZApJ1z9zn',\n",
       "  879,\n",
       "  None),\n",
       " ('@British_Airways I have had enough of this terrible customer service, k airw do not reply to my requests for update. I paid b airways, you delayed the flight',\n",
       "  1655,\n",
       "  None),\n",
       " ('Having a terrible time getting @115877 to move charges to a correct credit card. 10+ emails deep and have to keep explaining. Help!',\n",
       "  2000,\n",
       "  None),\n",
       " ('@116057 Can’t reach cust service to report TERRIBLE experience- Hair in food and no way to get $ back https://t.co/DVuLDHBN2V',\n",
       "  2337,\n",
       "  None),\n",
       " ('@115821 So for the 4th time the package I ordered was tossed onto my property instead of being left on my front porch. It was raining. Package wet. I’ve complained repeatedly to no avail. Since Amazon switched from USPS to local delivery Svc the SERVICE is terrible.',\n",
       "  2561,\n",
       "  None),\n",
       " ('@SouthwestAir Also how terrible is it that almost every single flight in this terminal is delayed???? Guess you get what you pay for.',\n",
       "  2599,\n",
       "  None),\n",
       " (\"@Uber_Support It's not you guys. It's @117115 @McDonalds only! They have terrible #customerservice and I am tired of it. #sadface #iloveuber\",\n",
       "  3448,\n",
       "  None),\n",
       " ('@TMobileHelp That was a terrible 2 hr customer service experience, was transferred internally to an expired #, 6 transfers 2 dropped calls.',\n",
       "  3504,\n",
       "  None),\n",
       " ('@696 So I guess your Twitter account isn’t anymore helpful to customers than email or your 800#. Terrible service.',\n",
       "  3654,\n",
       "  None),\n",
       " ('Hey @AskLyft and @Uber_Support your drivers are absolutely terrible around cyclists and pedestrians - plz provide training! #vulnerable',\n",
       "  5419,\n",
       "  None),\n",
       " ('@115777 I signed up for a monthly membership under the impression I would be billed monthly. You guys deceitfully tied me down to a yearly contract without any warnings, emails or notification in general. Now when I go to cancel you guys charge 60% of my yearly balance.. Terrible',\n",
       "  5496,\n",
       "  None),\n",
       " ('@CoxHelp your internet is continuously down in my area \"85035\". Paying around $100 each bill for terrible service',\n",
       "  5713,\n",
       "  None),\n",
       " ('@115821 logistics doing a laughably terrible job of delivering my package. Anyone else noticing a serious dip in customer service?',\n",
       "  5768,\n",
       "  None),\n",
       " ('@116076 I’m so pissed about the terrible customer service I just got from Darrell because my pizza says delivered and it wasn’t',\n",
       "  6778,\n",
       "  None),\n",
       " ('@CoxHelp Everywhere but it’s terrible in the bedroom. I have to shut off WiFi just to message you! Will Cox pay for my data overages!',\n",
       "  6908,\n",
       "  None),\n",
       " ('@CoxHelp 100 I think. We were at 50. Maybe we are talking the same thing. Just terrible internet',\n",
       "  6909,\n",
       "  None),\n",
       " ('.@115911, your coverage could be a whole lot better. This is terrible. Come on... https://t.co/sPD1NztSos',\n",
       "  7077,\n",
       "  None),\n",
       " ('@115900 .. terrible.. worst service ever', 7226, None),\n",
       " ('@119846 @CoxHelp @119847 This is terrible PR for cox if they wont even help a streamer out.',\n",
       "  7275,\n",
       "  None),\n",
       " ('@DoorDash_Help .@doordash_help .@116584 No one has emailed me as promised. Worst experience then customer service is terrible. #doordash @120026',\n",
       "  7599,\n",
       "  None),\n",
       " ('@115911 @TMobileHelp terrible customer service. 3 dysfunctional refurbished phones in 2 weeks. @115913 #badservice',\n",
       "  7667,\n",
       "  None),\n",
       " ('@British_Airways terrible service today. And awful cancellation policy on domestic flights 2 months away - just tax back. Customer lost. https://t.co/AxwLdxbFpJ',\n",
       "  7687,\n",
       "  None),\n",
       " ('@116021 What is with the absolutely catastrophic service cox gives.Outages with server,email,streaming problems and denial.Terrible service',\n",
       "  7715,\n",
       "  None),\n",
       " ('@119002 @115900 the World Series feed is super choppy.  So much for premium HD.  Terrible.....',\n",
       "  7930,\n",
       "  None),\n",
       " ('Hey @115955 ,our WiFi is still down. Fix this please! You’re making me actually miss TWC and their service was terrible!',\n",
       "  8164,\n",
       "  None),\n",
       " (\"@115877 keeps getting my order wrong and there is no number to call customer service? #terrible I won't use this service again.\",\n",
       "  8276,\n",
       "  None),\n",
       " ('@Ask_Spectrum your service is terrible. It’s been going out at 12:30am all the time. Maintenance shouldn’t be this frequent! I’m switching.',\n",
       "  8313,\n",
       "  None),\n",
       " ('@GloCare hi ur network here is terrible. One cannot access d net nor call. Pls can somthn b done ASAP?',\n",
       "  8535,\n",
       "  None),\n",
       " ('@British_Airways just landed from NYC had pre booked GF meal attendants had no meal they just shrugged No food avail 7hr terrible service#BA',\n",
       "  8653,\n",
       "  None),\n",
       " (\"@O2 please can I have the complaints email address? 6 weeks of terrible signal in London, I've had better service in the Scottish highlands\",\n",
       "  8707,\n",
       "  None),\n",
       " ('getting sick of the terrible customer service @116245 are providing lately.',\n",
       "  9415,\n",
       "  None),\n",
       " ('Good morning @115821 - Day 4 of terrible customer service continues I guess\\n\\nRead: https://t.co/x4SJJe9gzc',\n",
       "  9582,\n",
       "  None),\n",
       " ('@AppleSupport you guys are terrible back in October you said you’d send me something so I could send in my AirPods for repair since they didn’t work when I bought them. You never sent them to me at fort sill. Thanks!',\n",
       "  9810,\n",
       "  None),\n",
       " ('@GWRHelp claim for refund for cancelled train end Aug still no answer from you. Terrible service',\n",
       "  9898,\n",
       "  None),\n",
       " ('@O2 terrible network and customer service team. They do not have a clue what they saying or do for customers',\n",
       "  9995,\n",
       "  None),\n",
       " (\"@applesupport Bluetooth connection iPhone X to Infiniti is terrible. Garbled and scratchy cutting in and out &gt;30% of time. Didn't happen W iPhone 6!!\",\n",
       "  10726,\n",
       "  None),\n",
       " ('Ugh. Almost everything I ordered from #HearthAndHand from @834 is broken. Whoever does their shipping is terrible.',\n",
       "  10892,\n",
       "  None),\n",
       " ('Terrible @115873 trip this morning. Get drivers who know where they are going! I want a full refund for not getting me to my location.',\n",
       "  11016,\n",
       "  None),\n",
       " ('@HPSupport How do you disable popups in 4520 - been trying for an hour, ready to return this thing and post terrible Amazon review. Please help!',\n",
       "  11107,\n",
       "  None),\n",
       " ('@sprintcare @121773 One thing yall can do it outpay  Verizon for the rights to play free NFL games. I’d be thankful\\n\\nLove,\\nA sprint customer w/ terrible service',\n",
       "  11215,\n",
       "  None),\n",
       " ('@Americanair #theDMVoftheair\\nTerrible customer service on the ground and in the air. Save yourself the pain and fly just about anyone else',\n",
       "  11218,\n",
       "  None),\n",
       " ('@Ask_Spectrum Terrible service. Talked to four people before I made them understand. You all need a lesson in service.',\n",
       "  11300,\n",
       "  None),\n",
       " ('@sainsburys terrible #Customerservice.Refused to correct incompetent error.Considerable time wasted after 2 misdeliveries of Sainsburys wine',\n",
       "  11749,\n",
       "  None),\n",
       " ('\"Food is good, wait time terrible. Had to wait over 30 minutes for a bowl of soup and salad.\" #FoursquareFind @116253 https://t.co/kfFiX196VE https://t.co/xl1SXITHQ6',\n",
       "  11796,\n",
       "  None)]"
      ]
     },
     "execution_count": 46,
     "metadata": {},
     "output_type": "execute_result"
    }
   ],
   "source": [
    "c"
   ]
  },
  {
   "cell_type": "code",
   "execution_count": null,
   "metadata": {},
   "outputs": [],
   "source": []
  }
 ],
 "metadata": {
  "kernelspec": {
   "display_name": "Python 3",
   "language": "python",
   "name": "python3"
  },
  "language_info": {
   "codemirror_mode": {
    "name": "ipython",
    "version": 3
   },
   "file_extension": ".py",
   "mimetype": "text/x-python",
   "name": "python",
   "nbconvert_exporter": "python",
   "pygments_lexer": "ipython3",
   "version": "3.8.2"
  }
 },
 "nbformat": 4,
 "nbformat_minor": 2
}
